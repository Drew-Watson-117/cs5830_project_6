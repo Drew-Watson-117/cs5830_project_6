{
 "cells": [
  {
   "cell_type": "code",
   "execution_count": null,
   "metadata": {},
   "outputs": [],
   "source": [
    "import pandas as pd\n",
    "import numpy as np\n",
    "import matplotlib.pyplot as plt\n",
    "import seaborn as sns"
   ]
  },
  {
   "cell_type": "code",
   "execution_count": null,
   "metadata": {},
   "outputs": [],
   "source": [
    "def minusDate(x):\n",
    "    return x - 693963\n",
    "\n",
    "# Set start date to 1900\n",
    "df = pd.read_csv(\"RRCA_baseflow.csv\")\n",
    "df['Date'] = df['Date'].apply(minusDate)\n",
    "\n",
    "\n",
    "# We have a total of 42 unique segments in this dataset.\n",
    "total_segments = df['Segment_id'].nunique()\n",
    "print(total_segments)\n",
    "\n",
    "df\n"
   ]
  },
  {
   "cell_type": "code",
   "execution_count": null,
   "metadata": {},
   "outputs": [],
   "source": [
    "pumping_df = df[df['Irrigation_pumping'] != 0]\n",
    "\n",
    "pumping_df\n",
    "\n",
    "sns.regplot(x=pumping_df['Observed'], y=pumping_df['Irrigation_pumping'])"
   ]
  },
  {
   "cell_type": "code",
   "execution_count": null,
   "metadata": {},
   "outputs": [],
   "source": [
    "# Notice that if you compare this to a map of the republican river basin\n",
    "# they match up well. We will most likely see more base flow as we move east, or in \n",
    "#  the positive x axis. this is because more sections of the basin feed in to the a narrower point.\n",
    "# Interestingly linreg closely maps the actual republican river.\n",
    "\n",
    "sns.scatterplot(x=df['x'], y=df['y'])\n",
    "sns.regplot(x=df['x'], y=df['y'])"
   ]
  },
  {
   "cell_type": "code",
   "execution_count": null,
   "metadata": {},
   "outputs": [],
   "source": [
    "'''Here we see a couple stations really dominate the flow out at the end. I suspect thise will be on the lower\n",
    "republican river and close to juncition city/milford lake'''\n",
    "\n",
    "sns.scatterplot(x=df['Segment_id'], y=df['Observed'])"
   ]
  },
  {
   "cell_type": "code",
   "execution_count": null,
   "metadata": {},
   "outputs": [],
   "source": [
    "sns.regplot(x=df['x'], y=df['Observed'])\n"
   ]
  }
 ],
 "metadata": {
  "kernelspec": {
   "display_name": "Python 3",
   "language": "python",
   "name": "python3"
  },
  "language_info": {
   "codemirror_mode": {
    "name": "ipython",
    "version": 3
   },
   "file_extension": ".py",
   "mimetype": "text/x-python",
   "name": "python",
   "nbconvert_exporter": "python",
   "pygments_lexer": "ipython3",
   "version": "3.10.6"
  }
 },
 "nbformat": 4,
 "nbformat_minor": 2
}
